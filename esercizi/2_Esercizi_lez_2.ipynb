{
 "cells": [
  {
   "cell_type": "code",
   "execution_count": 6,
   "id": "24cc7dc6",
   "metadata": {},
   "outputs": [
    {
     "name": "stdout",
     "output_type": "stream",
     "text": [
      "[False False False False  True  True  True  True]\n",
      "[2]\n"
     ]
    }
   ],
   "source": [
    "import numpy as np\n",
    "a= np.array([2,3,5,7,11,13,17,19])\n",
    "a_maggiore10= a>10\n",
    "print(a_maggiore10) \n",
    "a_pari=a[a%2==0]\n",
    "print(a_pari)"
   ]
  },
  {
   "cell_type": "markdown",
   "id": "1fa55979",
   "metadata": {},
   "source": [
    "2. Operazioni su array\n",
    "Crea un array a, 2D (senza digitarlo esplicitamente), e genera due nuovi array b, contenente la sua 2ª e 4ª riga, e c contenente solo la 3ª. Dividi ogni colonna dell'array a, elemento per elemento, con l'array c."
   ]
  },
  {
   "cell_type": "code",
   "execution_count": 19,
   "id": "64f3745d",
   "metadata": {},
   "outputs": [
    {
     "name": "stdout",
     "output_type": "stream",
     "text": [
      "[[  1   2   3   4   5   6   7   8   9  10]\n",
      " [  2   4   6   8  10  12  14  16  18  20]\n",
      " [  3   6   9  12  15  18  21  24  27  30]\n",
      " [  4   8  12  16  20  24  28  32  36  40]\n",
      " [  5  10  15  20  25  30  35  40  45  50]\n",
      " [  6  12  18  24  30  36  42  48  54  60]\n",
      " [  7  14  21  28  35  42  49  56  63  70]\n",
      " [  8  16  24  32  40  48  56  64  72  80]\n",
      " [  9  18  27  36  45  54  63  72  81  90]\n",
      " [ 10  20  30  40  50  60  70  80  90 100]]\n",
      "\n",
      "\n",
      " [[ 2  4  6  8 10 12 14 16 18 20]\n",
      " [ 4  8 12 16 20 24 28 32 36 40]] \n",
      "\n",
      " [ 3  6  9 12 15 18 21 24 27 30]\n"
     ]
    }
   ],
   "source": [
    "from numpy import *\n",
    "a =array([array([i for i in range(1,11)])* j for j in range(1,11)])\n",
    "print(a)\n",
    "b=a[[1,3],]\n",
    "c=a[2,]\n",
    "print(\"\\n\\n\",b,\"\\n\\n\",c)"
   ]
  },
  {
   "cell_type": "markdown",
   "id": "335c9f16",
   "metadata": {},
   "source": [
    "3. Seleziona il numero più vicino a 0.5 in un array casuale\n",
    "Genera un array 10 x 3 con numeri casuali nell'intervallo [0,1]. Per ogni riga, seleziona il numero più vicino a 0.5. Per farlo usa il fancy indexing."
   ]
  },
  {
   "cell_type": "code",
   "execution_count": 17,
   "id": "ed26c4f1",
   "metadata": {},
   "outputs": [
    {
     "name": "stdout",
     "output_type": "stream",
     "text": [
      "[[0.22365146 0.17816829 0.31364049]\n",
      " [0.95128971 0.02444514 0.52937349]\n",
      " [0.46808983 0.95998635 0.5392923 ]\n",
      " [0.55208352 0.48106329 0.57206177]\n",
      " [0.02355619 0.86858431 0.04521368]\n",
      " [0.1947797  0.5192237  0.37779564]\n",
      " [0.29255331 0.26027456 0.02165976]\n",
      " [0.43064411 0.20336308 0.03966904]\n",
      " [0.67664877 0.36564788 0.64204799]\n",
      " [0.88524616 0.43354024 0.2365632 ]]\n",
      "[0.31364049 0.52937349 0.46808983 0.48106329 0.86858431 0.5192237\n",
      " 0.29255331 0.43064411 0.36564788 0.43354024]\n"
     ]
    }
   ],
   "source": [
    "import numpy as np\n",
    "a= np.random.rand(10,3)\n",
    "print(a)\n",
    "colonna = np.abs(a - 0.5).argmin(axis=1)\n",
    "righe = np.arange(10)# .arrange(a.shape[0])\n",
    "nuovo= a[righe,colonna]\n",
    "print(nuovo)"
   ]
  },
  {
   "cell_type": "markdown",
   "id": "b85c23f5",
   "metadata": {},
   "source": [
    "4. Analisi della Frequenza Cardiaca con NumPy\n",
    "       1-Supponiamo che i seguenti valori rappresentino la tua frequenza cardiaca registrata dal tuo Fitbit durante la giornata:\n",
    "       68, 65, 77, 110, 160, 161, 162, 161, 160, 161, 162, 163, 164, 163, 162, 100, 90, 97, 72, 60, 70\n",
    "       Inserisci questi valori in un array NumPy.\n",
    "\n",
    "       2-Trova la frequenza cardiaca minima registrata durante la giornata.\n",
    "       (Questo valore rappresenta approssimativamente la tua frequenza cardiaca a riposo, un comune indicatore di salute.)\n",
    "\n",
    "       3- Trova la frequenza cardiaca massima registrata durante la giornata.\n",
    "       (Questo valore è un'indicazione dell'intensità dell'esercizio fisico.)\n",
    "\n",
    "       4-Calcoliamo la percentuale di letture effettuate mentre stavi facendo esercizio fisico (frequenza cardiaca sopra a 120):\n",
    "\n",
    "       -Crea un nuovo array che contiene True quando la frequenza cardiaca è superiore a 120, e False quando è inferiore o uguale a 120.\n",
    "       Utilizza una funzione di sintesi per calcolare la percentuale di osservazioni in cui la tua frequenza cardiaca era sopra 120."
   ]
  },
  {
   "cell_type": "code",
   "execution_count": 24,
   "id": "a0acac51",
   "metadata": {},
   "outputs": [
    {
     "name": "stdout",
     "output_type": "stream",
     "text": [
      "frequenza:\n",
      "[ 68  65  77 110 160 161 162 161 160 161 162 163 164 163 162 100  90  97\n",
      "  72  60  70]\n",
      "min-frequenza: 60\n",
      "max_freq: 164\n",
      "frequenza_superiore_120:\n",
      "[False False False False  True  True  True  True  True  True  True  True\n",
      "  True  True  True False False False False False False]\n",
      "frequenza_superiore_120_percentuale:52.38095238095239%\n"
     ]
    }
   ],
   "source": [
    "import numpy as np\n",
    "freq= np.array([68, 65, 77, 110, 160, 161, 162, 161, 160, 161, 162, 163, 164, 163, 162, 100, 90, 97, 72, 60, 70])\n",
    "print('frequenza:')\n",
    "print(freq)\n",
    "\n",
    "min_freq= freq.min()\n",
    "print(\"min-frequenza:\",min_freq)\n",
    " \n",
    "max_freq=freq.max()\n",
    "print(\"max_freq:\",max_freq)\n",
    "\n",
    "freq_superiore_120=freq>120\n",
    "print('frequenza_superiore_120:')\n",
    "print(freq_superiore_120)\n",
    "\n",
    "freq_superiore_120_percentuale=np.mean(freq_superiore_120)*100\n",
    "print(f\"frequenza_superiore_120_percentuale:{freq_superiore_120_percentuale}%\")\n"
   ]
  }
 ],
 "metadata": {
  "kernelspec": {
   "display_name": "base",
   "language": "python",
   "name": "python3"
  },
  "language_info": {
   "codemirror_mode": {
    "name": "ipython",
    "version": 3
   },
   "file_extension": ".py",
   "mimetype": "text/x-python",
   "name": "python",
   "nbconvert_exporter": "python",
   "pygments_lexer": "ipython3",
   "version": "3.13.2"
  }
 },
 "nbformat": 4,
 "nbformat_minor": 5
}
